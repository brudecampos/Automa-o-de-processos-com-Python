{
 "cells": [
  {
   "cell_type": "markdown",
   "id": "19cbc4c8",
   "metadata": {},
   "source": [
    "# Automação de Sistemas e Processos com Python\n",
    "\n",
    "### Conceito:\n",
    "\n",
    "Enviar e-mails automaticamente com os dados do faturamento para os responsáveis."
   ]
  },
  {
   "cell_type": "code",
   "execution_count": 1,
   "id": "7d3941ca",
   "metadata": {},
   "outputs": [
    {
     "name": "stdout",
     "output_type": "stream",
     "text": [
      "Requirement already satisfied: pyautogui in c:\\users\\bruna\\anaconda3\\lib\\site-packages (0.9.53)\n",
      "Requirement already satisfied: pygetwindow>=0.0.5 in c:\\users\\bruna\\anaconda3\\lib\\site-packages (from pyautogui) (0.0.9)\n",
      "Requirement already satisfied: PyTweening>=1.0.1 in c:\\users\\bruna\\anaconda3\\lib\\site-packages (from pyautogui) (1.0.4)\n",
      "Requirement already satisfied: mouseinfo in c:\\users\\bruna\\anaconda3\\lib\\site-packages (from pyautogui) (0.1.3)\n",
      "Requirement already satisfied: pymsgbox in c:\\users\\bruna\\anaconda3\\lib\\site-packages (from pyautogui) (1.0.9)\n",
      "Requirement already satisfied: pyscreeze>=0.1.21 in c:\\users\\bruna\\anaconda3\\lib\\site-packages (from pyautogui) (0.1.28)\n",
      "Requirement already satisfied: pyrect in c:\\users\\bruna\\anaconda3\\lib\\site-packages (from pygetwindow>=0.0.5->pyautogui) (0.2.0)\n",
      "Requirement already satisfied: pyperclip in c:\\users\\bruna\\anaconda3\\lib\\site-packages (from mouseinfo->pyautogui) (1.8.2)\n"
     ]
    }
   ],
   "source": [
    "!pip install pyautogui # Biblioteca de automação de comandos do mouse e teclado."
   ]
  },
  {
   "cell_type": "markdown",
   "id": "ad945f44",
   "metadata": {},
   "source": [
    "### Entrando no sistema\n",
    "\n",
    "- Neste caso usamos o Google Drive representando o sistema da empresa. "
   ]
  },
  {
   "cell_type": "code",
   "execution_count": 4,
   "id": "99459fe2",
   "metadata": {},
   "outputs": [],
   "source": [
    "import pyautogui\n",
    "import pyperclip\n",
    "import time\n",
    "\n",
    "pyautogui.PAUSE = 1\n",
    "\n",
    "# Passo 1: Entrar no sistema da empresa (neste caso o link do google drive)\n",
    "pyautogui.hotkey(\"ctrl\", \"t\")\n",
    "pyperclip.copy(\"https://drive.google.com/drive/folders/149xknr9JvrlEnhNWO49zPcw0PW5icxga?usp=sharing\")\n",
    "pyautogui.hotkey(\"ctrl\", \"v\")\n",
    "pyautogui.press(\"enter\")\n",
    "\n",
    "time.sleep(5)\n",
    "\n",
    "# Passo 2: Navegar no sistema e encontrar a base de vendas (entrar na pasta exportar)\n",
    "pyautogui.click(x=391, y=350, clicks = 2)\n",
    "\n",
    "# Passo 3: Fazer o download da base de vendas\n",
    "pyautogui.click(x=440, y=351) # clicar no arquivo\n",
    "pyautogui.click(x=1159, y=150) # cliclar nos 3 pontinhos\n",
    "pyautogui.click(x=955, y=557) # clicar para fazer o download\n",
    "time.sleep(5) # Tempo de espera do download\n"
   ]
  },
  {
   "cell_type": "markdown",
   "id": "ca90121b",
   "metadata": {},
   "source": [
    "### Vamos agora ler o arquivo baixado para pegar os indicadores¶\n",
    "\n",
    "- Faturamento\n",
    "- Quantidade de Produtos"
   ]
  },
  {
   "cell_type": "code",
   "execution_count": null,
   "id": "a345da58",
   "metadata": {},
   "outputs": [],
   "source": [
    "# Passo 4: Importar a base de vendas para o Python\n",
    "import pandas as pd\n",
    "\n",
    "tabela = pd.read_excel(r\"C:\\Users\\Bruna\\Downloads\\Vendas - Dez.xlsx\")\n",
    "display(tabela)"
   ]
  },
  {
   "cell_type": "markdown",
   "id": "b1520547",
   "metadata": {},
   "source": [
    "### Cálculos "
   ]
  },
  {
   "cell_type": "code",
   "execution_count": null,
   "id": "50fa3f0a",
   "metadata": {},
   "outputs": [],
   "source": [
    "# Passo 5: Calcular os indicadores da empresa\n",
    "faturamento = tabela[\"Valor Final\"].sum()\n",
    "print(faturamento)\n",
    "quantidade = tabela[\"Quantidade\"].sum()\n",
    "print(quantidade)"
   ]
  },
  {
   "cell_type": "markdown",
   "id": "ef212e7a",
   "metadata": {},
   "source": [
    "### Enviando o e-mail"
   ]
  },
  {
   "cell_type": "code",
   "execution_count": null,
   "id": "9bcba537",
   "metadata": {},
   "outputs": [],
   "source": [
    "# Passo 6: Enviar um e-mail para a direção com os indicadores de venda\n",
    "\n",
    "# Abrir uma nova aba\n",
    "pyautogui.hotkey(\"ctrl\", \"t\")\n",
    "\n",
    "# Entrar no e-mail\n",
    "pyperclip.copy(\"https://mail.google.com/mail/u/0/#inbox\")\n",
    "pyautogui.hotkey(\"ctrl\", \"v\")\n",
    "pyautogui.press(\"enter\")\n",
    "time.sleep(3)\n",
    "\n",
    "# Clicar no botão escrever\n",
    "pyautogui.click(x=125, y=166)\n",
    "time.sleep(3)\n",
    "\n",
    "# Preencher as informações do destinatário do e-mail \n",
    "pyautogui.write(\"bru_campos@outlook.com\")\n",
    "pyautogui.press(\"tab\") # Selecionar o e-mail\n",
    "\n",
    "pyautogui.press(\"tab\") # Pular para o campo assunto\n",
    "pyperclip.copy(\"Relatório de Vendas\")\n",
    "pyautogui.hotkey(\"ctrl\", \"v\")\n",
    "\n",
    "pyautogui.press(\"tab\") # Pular para o corpo do e-mail\n",
    "\n",
    "texto = f\"\"\"\n",
    "Prezados,\n",
    "\n",
    "Segue relatório de vendas.\n",
    "\n",
    "Faturamento: R$ {faturamento:,.2f}\n",
    "Quantidade de produtos vendidos: {quantidade:,}\n",
    "\n",
    "Qualquer dúvida estou à disposição.\n",
    "\n",
    "\n",
    "Atenciosamente,\n",
    "\n",
    "Bruna Campos\n",
    "\"\"\"\n",
    "\n",
    "pyperclip.copy(texto)\n",
    "pyautogui.hotkey(\"ctrl\", \"v\")\n",
    "\n",
    "pyautogui.hotkey(\"ctrl\", \"enter\")"
   ]
  }
 ],
 "metadata": {
  "kernelspec": {
   "display_name": "Python 3 (ipykernel)",
   "language": "python",
   "name": "python3"
  },
  "language_info": {
   "codemirror_mode": {
    "name": "ipython",
    "version": 3
   },
   "file_extension": ".py",
   "mimetype": "text/x-python",
   "name": "python",
   "nbconvert_exporter": "python",
   "pygments_lexer": "ipython3",
   "version": "3.9.13"
  }
 },
 "nbformat": 4,
 "nbformat_minor": 5
}
